{
 "cells": [
  {
   "cell_type": "markdown",
   "metadata": {},
   "source": []
  },
  {
   "cell_type": "code",
   "execution_count": 212,
   "metadata": {},
   "outputs": [],
   "source": [
    "#Importing Libraries\n",
    "import math\n",
    "from requests import get"
   ]
  },
  {
   "cell_type": "code",
   "execution_count": 214,
   "metadata": {},
   "outputs": [],
   "source": [
    "class CountingBloomFilter():\n",
    "    \"\"\"Implement the counting bloom filter which supports:\n",
    "    - search: queries the membership of an element\n",
    "    - insert: inserts a string to the filter\n",
    "    - delete: removes a string from the filter\n",
    "    - Calcualte_fpr: calculates the false positive rate\n",
    "    - Calculate_memory_size: calculates the memory size/ length of the filter\n",
    "    \"\"\"\n",
    "    def __init__(self, number_of_hash_functions=10, filter_length =10): \n",
    "        \"\"\"\n",
    "        Initializes a new instance of the CountingBloomFilter class.\n",
    "\n",
    "        Args:\n",
    "            number_of_hash_functions (int): The number of hash functions to use.\n",
    "            filter_length (int): The length of the filter.\n",
    "        \"\"\"\n",
    "        self.number_of_hash_functions = number_of_hash_functions\n",
    "        self.filter_length = filter_length\n",
    "        self.filter = [0] * self.filter_length \n",
    "        \n",
    "    def hash_cbf(self, item):\n",
    "        \"\"\"\n",
    "        Calculates the hash values for a given item.\n",
    "        A loop will run for the number of hash functions and each time it will calculate a hash value for the item.\n",
    "        ord gives the ASCII value of a character.\n",
    "\n",
    "        Args:\n",
    "            item (str): The item to hash.\n",
    "\n",
    "        Returns:\n",
    "            list: A list of hash values.\n",
    "        \"\"\"\n",
    "        \n",
    "        hash_value = []\n",
    "        for hash_function in range(self.number_of_hash_functions):\n",
    "            if hash_function > 0: \n",
    "                hash_2 = (sum(ord(c) * (index**hash_function) for index, c in enumerate(item))) % self.filter_length\n",
    "                hash_value.append(hash_2)\n",
    "\n",
    "            else:#else is use 2nd to save comparisions = number_of_hash_functions -1 \n",
    "                hash_1 = len(item) % self.filter_length \n",
    "                hash_value.append(hash_1)\n",
    "        return hash_value\n",
    "\n",
    "\n",
    "\n",
    "    def search(self, item):\n",
    "        \"\"\"\n",
    "        Checks if an item is possibly in the set.\n",
    "\n",
    "        Args:\n",
    "            item (str): The item to search for.\n",
    "\n",
    "        Returns:\n",
    "            bool: True if the item is possibly in the set, False otherwise.\n",
    "        \"\"\"\n",
    "        \n",
    "        hash_value= self.hash_cbf(item)\n",
    "        for hash in hash_value:\n",
    "            if self.filter[hash] == 0: \n",
    "                return False\n",
    "        #True only if all the bits at the hash values are 1.\n",
    "        return True \n",
    "\n",
    "    def insert(self, item):\n",
    "        \"\"\"\n",
    "        Inserts an item into the set.\n",
    "\n",
    "        Args:\n",
    "            item (str): The item to insert.\n",
    "        \"\"\"\n",
    "\n",
    "        hash_value= self.hash_cbf(item)\n",
    "        for hash in hash_value:\n",
    "            self.filter[hash] += 1 #This works as counter too\n",
    "\n",
    "\n",
    "    def delete(self, item):\n",
    "        \"\"\"\n",
    "        Removes an item from the set, and reduces counter.\n",
    "\n",
    "        Args:\n",
    "            item (str): The item to remove.\n",
    "        \"\"\"\n",
    "        \n",
    "        hash_value= self.hash_cbf(item)\n",
    "        for hash in hash_value:\n",
    "            self.filter[hash] -= 1\n",
    "    \n",
    "    def calculate_fpr(self, number_of_items):\n",
    "        \"\"\"\n",
    "        Calculates the false positive rate of the Counting Bloom Filter.\n",
    "        This uses a formula from (Kirsch & Mitzenmacher, 2008).\n",
    "        Args:\n",
    "            number_of_items (int): The number of items in the set.\n",
    "\n",
    "        Returns:\n",
    "            float: The false positive rate.\n",
    "        \"\"\"\n",
    "        k = self.number_of_hash_functions\n",
    "        m = self.filter_length\n",
    "        n = number_of_items\n",
    "        p = math.e**(-k * n / m) \n",
    "        # The false positive rate is then 1 - p\n",
    "        fpr = (1 - p)**k\n",
    "        return fpr\n",
    "    \n",
    "\n",
    "    def calculate_memory_size(fpr, number_of_items, number_of_hash_functions):\n",
    "        \"\"\"\n",
    "        Calculates the memory size of the Counting Bloom Filter.\n",
    "        Uses the formuls from (Kirsch & Mitzenmacher, 2008).\n",
    "        Args:\n",
    "            fpr: float, false-positive rate\n",
    "            number_of_items: int, number of items stored\n",
    "            number_of_hash_functions: int, number of hash functions\n",
    "\n",
    "        Returns:\n",
    "            int, memory size\n",
    "        \"\"\"\n",
    "        k = number_of_hash_functions\n",
    "        n = number_of_items\n",
    "        memory_size = -k * n / math.log(1 - fpr**(1/k))\n",
    "        return memory_size\n"
   ]
  },
  {
   "cell_type": "markdown",
   "metadata": {},
   "source": [
    "### Testing the Counting Bloom Filter class"
   ]
  },
  {
   "cell_type": "code",
   "execution_count": 215,
   "metadata": {},
   "outputs": [
    {
     "name": "stdout",
     "output_type": "stream",
     "text": [
      "[4, 3, 9, 7, 7, 3, 9, 7, 7, 3]\n",
      "[3, 2, 0, 4, 0, 2, 0, 4, 0, 2]\n",
      "[3, 4, 4, 2, 6, 4, 4, 2, 6, 4]\n",
      "[3, 6, 8, 0, 2, 6, 8, 0, 2, 6]\n",
      "[3, 8, 2, 8, 8, 8, 2, 8, 8, 8]\n",
      "[3, 0, 6, 6, 4, 0, 6, 6, 4, 0]\n",
      "[3, 2, 0, 4, 0, 2, 0, 4, 0, 2]\n",
      "[3, 4, 4, 2, 6, 4, 4, 2, 6, 4]\n",
      "[3, 6, 8, 0, 2, 6, 8, 0, 2, 6]\n",
      "[3, 8, 2, 8, 8, 8, 2, 8, 8, 8]\n"
     ]
    },
    {
     "data": {
      "text/plain": [
       "[15, 0, 18, 12, 17, 0, 14, 4, 18, 2]"
      ]
     },
     "execution_count": 215,
     "metadata": {},
     "output_type": "execute_result"
    }
   ],
   "source": [
    "def test_insert():\n",
    "    cbf = CountingBloomFilter(2)  # Creating an instance of the CBF class with 2 hash functions\n",
    "    item = \"test_string\"\n",
    "    cbf.insert(item)\n",
    "    hash_values = cbf.hash_cbf(item)\n",
    "    #print(hash_values)\n",
    "    #print(cbf.filter)\n",
    "    for hash_value in hash_values:\n",
    "        assert cbf.filter[hash_value] > 0, f\"Item {item} was not inserted correctly\"\n",
    "\n",
    "test_insert()\n",
    "\n",
    "def test_search():\n",
    "    cbf = CountingBloomFilter(10)  # Creating an instance of the CBF class with 10 hash functions\n",
    "    item = \"test_string\"\n",
    "    cbf.insert(item)\n",
    "    #print(cbf.filter)\n",
    "    assert cbf.search(item), f\"Item {item} was not found correctly\"\n",
    "\n",
    "test_search()\n",
    "\n",
    "def test_delete():\n",
    "    cbf = CountingBloomFilter(20) #Testing with 20 hash functions\n",
    "    item = \"This is a test string with special characters like !, @, #, $, %, ^, &,, and numbers 7,3,3,2,2,2 \"\n",
    "    cbf.insert(item)\n",
    "    #Since, we added the item, it's hash value must be present in the filter, so we will search for it.\n",
    "    assert cbf.search(item), f\"Item {item} was not found correctly\"\n",
    "    cbf.delete(item)\n",
    "    #Now the filter should have 0 at all the hash values of the item.\n",
    "    assert not cbf.search(item), f\"Item {item} was not deleted correctly\"\n",
    "\n",
    "test_delete()\n",
    "\n",
    "#Testing if the counter works after adding 10 items\n",
    "def test_counter():\n",
    "    cbf = CountingBloomFilter(10) #Testing with 10 hash functions\n",
    "    for i in range(10):\n",
    "        item = str(i-1)+ \"test_string\" + str(i)\n",
    "        cbf.insert(item)\n",
    "        print(cbf.hash_cbf(item))\n",
    "    #Since, we added multiple 10 elements with each element having 10 hash values, the counter should be more than 1 for multiple hash values.\n",
    "    return cbf.filter\n",
    "test_counter()"
   ]
  },
  {
   "cell_type": "markdown",
   "metadata": {},
   "source": [
    "### Experimental Analysis"
   ]
  },
  {
   "cell_type": "code",
   "execution_count": 216,
   "metadata": {},
   "outputs": [
    {
     "data": {
      "image/png": "[encoded data removed]",
      "text/plain": [
       "<Figure size 432x288 with 1 Axes>"
      ]
     },
     "metadata": {
      "needs_background": "light"
     },
     "output_type": "display_data"
    }
   ],
   "source": [
    "import requests\n",
    "import matplotlib.pyplot as plt\n",
    "\n",
    "def fpr_with_memory_size():\n",
    "    \"\"\"\n",
    "    Number of Hash functions is constant i.e.10.\n",
    "    \"\"\"\n",
    "    X = []\n",
    "    Y = []\n",
    "    url = \"https://gist.githubusercontent.com/raquelhr/78f66877813825dc344efefefdc684a5d6/raw/361a40e4cd22cb6025e1fb2baca3bf7e166b2ec6/\"\n",
    "    data = requests.get(url).text.splitlines() \n",
    "    for size in range(1, 200):\n",
    "        cbf = CountingBloomFilter(10, size+1) \n",
    "        for i in range(size):\n",
    "            if i < len(data):\n",
    "                cbf.insert(data[i]) \n",
    "        fpr = cbf.calculate_fpr(10)\n",
    "        X.append(size)\n",
    "        Y.append(fpr)\n",
    "    plt.plot(X, Y)\n",
    "    plt.xlabel(\"Memory Size\")\n",
    "    plt.ylabel(\"False Positive Rate\")\n",
    "    plt.show()\n",
    "\n",
    "fpr_with_memory_size()"
   ]
  },
  {
   "cell_type": "code",
   "execution_count": 217,
   "metadata": {},
   "outputs": [
    {
     "data": {
      "image/png": "[encoded data removed]",
      "text/plain": [
       "<Figure size 432x288 with 1 Axes>"
      ]
     },
     "metadata": {
      "needs_background": "light"
     },
     "output_type": "display_data"
    }
   ],
   "source": [
    "import requests\n",
    "import matplotlib.pyplot as plt\n",
    "\n",
    "def memory_size_with_fpr():\n",
    "    \"\"\"\n",
    "    This function plots the memory size of a Counting Bloom Filter against the false positive rate (FPR).\n",
    "    The number of items is determined by the number of lines in the data fetched from a specific URL.\n",
    "    The number of hash functions is set to 10.\n",
    "    The FPR is varied from 0.01 to 0.99.\n",
    "    \"\"\"\n",
    "    X = []\n",
    "    Y = []\n",
    "    url = \"https://gist.githubusercontent.com/raquelhr/78f66877813825dc344efefefdc684a5d6/raw/361a40e4cd22cb6025e1fb2baca3bf7e166b2ec6/\"\n",
    "    data = requests.get(url).text.splitlines()\n",
    "    number_of_items = len(data) \n",
    "    number_of_hash_functions = 10 \n",
    "    for fpr in [i * 0.01 for i in range(1, 100)]: \n",
    "        memory_size = CountingBloomFilter.calculate_memory_size(fpr, number_of_items, number_of_hash_functions)\n",
    "        X.append(fpr)\n",
    "        Y.append(memory_size)\n",
    "    plt.plot(X, Y)\n",
    "    plt.xlabel(\"False Positive Rate\")\n",
    "    plt.ylabel(\"Memory Size\")\n",
    "    plt.show()\n",
    "\n",
    "memory_size_with_fpr()"
   ]
  },
  {
   "cell_type": "code",
   "execution_count": 220,
   "metadata": {},
   "outputs": [
    {
     "data": {
      "image/png": "[encoded data removed]",
      "text/plain": [
       "<Figure size 432x288 with 1 Axes>"
      ]
     },
     "metadata": {
      "needs_background": "light"
     },
     "output_type": "display_data"
    }
   ],
   "source": [
    "def memory_size_with_number_of_items():\n",
    "    \"\"\"\n",
    "    This function plots the memory size of a Counting Bloom Filter against the number of items stored.\n",
    "    The number of items is determined by the number of lines in the data fetched from a specific URL.\n",
    "    The false positive rate (FPR) is set to 0.1.\n",
    "    The number of hash functions is set to 10.\n",
    "    \"\"\"\n",
    "    X = []\n",
    "    Y = []\n",
    "    fpr = 0.1\n",
    "    number_of_hash_functions = 10\n",
    "    url = \"https://gist.githubusercontent.com/raquelhr/78f66877813825dc344efefefdc684a5d6/raw/361a40e4cd22cb6025e1fb2baca3bf7e166b2ec6/\"\n",
    "    data = requests.get(url).text.split() \n",
    "    for number_of_items in range(1, len(data) + 1): \n",
    "        memory_size = CountingBloomFilter.calculate_memory_size(fpr, number_of_items, number_of_hash_functions)\n",
    "        X.append(number_of_items)\n",
    "        Y.append(memory_size)\n",
    "    plt.plot(X, Y)\n",
    "    plt.xlabel(\"Number of Items Stored\")\n",
    "    plt.ylabel(\"Memory Size\")\n",
    "    plt.show()\n",
    "\n",
    "memory_size_with_number_of_items()"
   ]
  },
  {
   "cell_type": "code",
   "execution_count": 227,
   "metadata": {},
   "outputs": [
    {
     "data": {
      "image/png": "[encoded data removed]",
      "text/plain": [
       "<Figure size 432x288 with 1 Axes>"
      ]
     },
     "metadata": {
      "needs_background": "light"
     },
     "output_type": "display_data"
    }
   ],
   "source": [
    "def fpr_with_hash_functions():\n",
    "    \"\"\"\n",
    "    This function plots the false positive rate of a Counting Bloom Filter against the number of hash functions used.\n",
    "    The number of items is determined by the number of lines in the data fetched from a specific URL.\n",
    "    The filter length is set to 1000.\n",
    "    \"\"\"\n",
    "    X = []\n",
    "    Y = []\n",
    "    filter_length = 50\n",
    "    url = \"https://gist.githubusercontent.com/raquelhr/78f66877813825dc344efefefdc684a5d6/raw/361a40e4cd22cb6025e1fb2baca3bf7e166b2ec6/\"\n",
    "    data = requests.get(url).text.split()\n",
    "    number_of_items = len(data)\n",
    "    for number_of_hash_functions in range(1, 100):\n",
    "        cbf = CountingBloomFilter(number_of_hash_functions, filter_length)\n",
    "        for item in data:\n",
    "            cbf.insert(item)\n",
    "        fpr = cbf.calculate_fpr(number_of_items)\n",
    "        X.append(number_of_hash_functions)\n",
    "        Y.append(fpr)\n",
    "    plt.plot(X, Y)\n",
    "    plt.xlabel(\"Number of Hash Functions\")\n",
    "    plt.ylabel(\"False Positive Rate\")\n",
    "    plt.show()\n",
    "\n",
    "fpr_with_hash_functions()"
   ]
  },
  {
   "cell_type": "code",
   "execution_count": 264,
   "metadata": {},
   "outputs": [
    {
     "data": {
      "text/plain": [
       "'def access_time_with_number_of_items():\\n    \\n    #This function plots the access time of a Counting Bloom Filter against the number of items stored.\\n    #The number of items, filter length, and number of hash functions are determined based on the data fetched from a specific URL.\\n    \\n    X = []\\n    Y = []\\n    base_filter_length = 5\\n    base_number_of_hash_functions = 1\\n    url = \"https://gist.githubusercontent.com/raquelhr/78f66877813825dc344efefdc684a5d6/raw/361a40e4cd22cb6025e1fb2baca3bf7e166b2ec6/\"\\n    print(\"Fetching data...\")\\n    data = requests.get(url).text.splitlines()\\n    print(len(data))\\n    for number_of_items in range(1, len(data) + 1): \\n        # Increase the filter length and no of hash functions proportionally to the number of items\\n        filter_length = int(base_filter_length / int((number_of_items)**0.00000001))\\n        number_of_hash_functions = base_number_of_hash_functions * int((number_of_items)**0.00000002)\\n        cbf = CountingBloomFilter(number_of_hash_functions, filter_length)\\n        for item in data[:number_of_items]:\\n            cbf.insert(item)\\n        start_time = time.time()\\n        cbf.search(\\'random_element\\')\\n        end_time = time.time()\\n        access_time = end_time - start_time\\n        X.append(number_of_items)\\n        Y.append(access_time)\\n    plt.plot(X, Y)\\n    plt.xlabel(\"Number of Items Stored\")\\n    plt.ylabel(\"Access Time (Seconds)\")\\n    plt.show()\\n\\naccess_time_with_number_of_items()'"
      ]
     },
     "execution_count": 264,
     "metadata": {},
     "output_type": "execute_result"
    }
   ],
   "source": [
    "#Tried Keeping the FPR constant, but takes a long time to run.\n",
    "\"\"\"def access_time_with_number_of_items():\n",
    "    \n",
    "    #This function plots the access time of a Counting Bloom Filter against the number of items stored.\n",
    "    #The number of items, filter length, and number of hash functions are determined based on the data fetched from a specific URL.\n",
    "    \n",
    "    X = []\n",
    "    Y = []\n",
    "    base_filter_length = 5\n",
    "    base_number_of_hash_functions = 1\n",
    "    url = \"https://gist.githubusercontent.com/raquelhr/78f66877813825dc344efefdc684a5d6/raw/361a40e4cd22cb6025e1fb2baca3bf7e166b2ec6/\"\n",
    "    print(\"Fetching data...\")\n",
    "    data = requests.get(url).text.splitlines()\n",
    "    print(len(data))\n",
    "    for number_of_items in range(1, len(data) + 1): \n",
    "        # Increase the filter length and no of hash functions proportionally to the number of items\n",
    "        filter_length = int(base_filter_length / int((number_of_items)**0.00000001))\n",
    "        number_of_hash_functions = base_number_of_hash_functions * int((number_of_items)**0.00000002)\n",
    "        cbf = CountingBloomFilter(number_of_hash_functions, filter_length)\n",
    "        for item in data[:number_of_items]:\n",
    "            cbf.insert(item)\n",
    "        start_time = time.time()\n",
    "        cbf.search('random_element')\n",
    "        end_time = time.time()\n",
    "        access_time = end_time - start_time\n",
    "        X.append(number_of_items)\n",
    "        Y.append(access_time)\n",
    "    plt.plot(X, Y)\n",
    "    plt.xlabel(\"Number of Items Stored\")\n",
    "    plt.ylabel(\"Access Time (Seconds)\")\n",
    "    plt.show()\n",
    "\n",
    "access_time_with_number_of_items()\"\"\""
   ]
  },
  {
   "cell_type": "code",
   "execution_count": 268,
   "metadata": {},
   "outputs": [
    {
     "data": {
      "image/png": "[encoded data removed]",
      "text/plain": [
       "<Figure size 432x288 with 1 Axes>"
      ]
     },
     "metadata": {
      "needs_background": "light"
     },
     "output_type": "display_data"
    }
   ],
   "source": [
    "#Without Constant FPR\n",
    "\n",
    "def access_time_with_number_of_items():\n",
    "    X = []\n",
    "    Y = []\n",
    "    filter_length = 100 \n",
    "    number_of_hash_functions = 10 \n",
    "    for number_of_items in range(1, 100): \n",
    "        cbf = CountingBloomFilter(number_of_hash_functions, filter_length) \n",
    "        for item in range(number_of_items):\n",
    "            cbf.insert(str(item))\n",
    "        start_time = time.time()\n",
    "        cbf.search('random_text')\n",
    "        end_time = time.time()\n",
    "        access_time = end_time - start_time\n",
    "        X.append(number_of_items)\n",
    "        Y.append(access_time)\n",
    "    plt.plot(X, Y)\n",
    "    plt.xlabel(\"Number of Items Stored\")\n",
    "    plt.ylabel(\"Access Time (seconds)\")\n",
    "    plt.show()\n",
    "\n",
    "access_time_with_number_of_items()"
   ]
  },
  {
   "cell_type": "code",
   "execution_count": 77,
   "metadata": {},
   "outputs": [
    {
     "data": {
      "text/plain": [
       "(8461, 8461, 8554)"
      ]
     },
     "execution_count": 77,
     "metadata": {},
     "output_type": "execute_result"
    }
   ],
   "source": [
    "#Code provided in the Assignmnet Instructions\n",
    "#! pip install requests\n",
    "url_version_1 = 'https://bit.ly/39MurYb'\n",
    "url_version_2 = 'https://bit.ly/3we1QCp'\n",
    "url_version_3 = 'https://bit.ly/3vUecRn'\n",
    "def get_txt_into_list_of_words(url):\n",
    "    '''Cleans the text data\n",
    "    Input\n",
    "    ----------\n",
    "    url : string\n",
    "        The URL for the txt file.\n",
    "    Returns\n",
    "    -------\n",
    "    data_just_words_lower_case: list\n",
    "        List of \"cleaned-up\" words sorted by the order they appear in the original file.\n",
    "    '''\n",
    "    bad_chars = [';', ',', '.', '?', '!', '_', '[', ']', '(', ')', '*']\n",
    "    data = get(url).text\n",
    "    data = ''.join(c for c in data if c not in bad_chars)\n",
    "    data_without_newlines = ''.join(c if (c not in ['\\n', '\\r', '\\t']) else \" \" for c in data)\n",
    "    data_just_words = [word for word in data_without_newlines.split(\" \") if word != \"\"]\n",
    "    data_just_words_lower_case = [word.lower() for word in data_just_words]\n",
    "    return data_just_words_lower_case\n",
    "version_1 = get_txt_into_list_of_words(url_version_1)\n",
    "version_2 = get_txt_into_list_of_words(url_version_2)\n",
    "version_3 = get_txt_into_list_of_words(url_version_3)"
   ]
  },
  {
   "cell_type": "code",
   "execution_count": 115,
   "metadata": {},
   "outputs": [
    {
     "name": "stdout",
     "output_type": "stream",
     "text": [
      "28342 2\n",
      "0.2546142924751538\n",
      "0.2602691632533645\n"
     ]
    }
   ],
   "source": [
    "class PlagiarismDetector(CountingBloomFilter):\n",
    "    def __init__(self, num_hash_functions, memory_size):\n",
    "        super().__init__(num_hash_functions, memory_size)\n",
    "\n",
    "    def add_text(self, text, n_value):\n",
    "        words = text\n",
    "        for i in range(len(words) - n_value + 1):\n",
    "            ngram = ' '.join(words[i:i+n_value])\n",
    "            self.insert(ngram)\n",
    "\n",
    "    def check_plagiarism(self, text, n_value):\n",
    "        words = text\n",
    "        plagiarized_ngrams = 0\n",
    "        for i in range(len(words) - n_value + 1):\n",
    "            ngram = ' '.join(words[i:i+n_value])\n",
    "            if self.search(ngram):\n",
    "                plagiarized_ngrams += 1\n",
    "        plagiarism_rate = plagiarized_ngrams / (len(words) - n_value + 1)\n",
    "        return plagiarism_rate\n",
    "    def test_fpr(self, original_docs, non_plagiarized_docs, n_value):\n",
    "        # Adding original text to the detector\n",
    "        for doc in original_docs:\n",
    "            self.add_text(doc, n_value)\n",
    "\n",
    "        # Test the detector\n",
    "        false_positives = 0\n",
    "        for doc in non_plagiarized_docs:\n",
    "            if self.check_plagiarism(doc, n_value) > 0:\n",
    "                false_positives += 1\n",
    "\n",
    "        # Calculate the FPR\n",
    "        fpr = false_positives / len(non_plagiarized_docs)\n",
    "        return fpr\n",
    "    \n",
    "\n",
    "def get_hash_count( m, n): \n",
    "    ''' \n",
    "    Returns the number of hash functions to be used\n",
    "    m : int \n",
    "        filter length\n",
    "    n : int \n",
    "        number of items expected to be stored in filter \n",
    "    '''\n",
    "    k = (m/n) * math.log(2) \n",
    "    return int(k) \n",
    "\n",
    "def get_filter_size( n, fpr): \n",
    "        ''' \n",
    "        Return the size of bit array(m) to used using \n",
    "        following formula \n",
    "        m = -(n * lg(p)) / (lg(2)^2) \n",
    "        n : int \n",
    "            number of items expected to be stored in filter \n",
    "        fpr : float \n",
    "            False Positive probability in decimal \n",
    "        '''\n",
    "        m = -(n * math.log(fpr))/(math.log(2)**2) \n",
    "        return int(m) \n",
    "\n",
    "# Example usage:\n",
    "n_value = 10\n",
    "filter_length = get_filter_size( len(version_1), 0.2) \n",
    "hash_count = get_hash_count(filter_length, len(version_1)) \n",
    "print(filter_length, hash_count)\n",
    "detector = PlagiarismDetector(hash_count, filter_length)\n",
    "detector.add_text(version_1, n_value)\n",
    "print(detector.check_plagiarism(version_2, n_value))\n",
    "print(detector.check_plagiarism(version_3, n_value))"
   ]
  },
  {
   "cell_type": "code",
   "execution_count": 80,
   "metadata": {},
   "outputs": [],
   "source": [
    "#Modified Code from Assignment Instructions for Text to list\n",
    "def get_string_into_list_of_words(data):\n",
    "    '''Cleans the text data\n",
    "    Input\n",
    "    ----------\n",
    "    url : string\n",
    "        The URL for the txt file.\n",
    "    Returns\n",
    "    -------\n",
    "    data_just_words_lower_case: list\n",
    "        List of \"cleaned-up\" words sorted by the order they appear in the original file.\n",
    "    '''\n",
    "    bad_chars = [';', ',', '.', '?', '!', '_', '[', ']', '(', ')', '*']\n",
    "    data = ''.join(c for c in data if c not in bad_chars)\n",
    "    data_without_newlines = ''.join(c if (c not in ['\\n', '\\r', '\\t']) else \" \" for c in data)\n",
    "    data_just_words = [word for word in data_without_newlines.split(\" \") if word != \"\"]\n",
    "    data_just_words_lower_case = [word.lower() for word in data_just_words]\n",
    "    return data_just_words_lower_case\n"
   ]
  },
  {
   "cell_type": "code",
   "execution_count": 102,
   "metadata": {},
   "outputs": [
    {
     "name": "stdout",
     "output_type": "stream",
     "text": [
      "12 15\n",
      "0.2222222222222222\n",
      "0.6206896551724138\n",
      "1.0\n"
     ]
    }
   ],
   "source": [
    "Original_text = \"Hello I am Jeevan. I am a student at Minerva University. I am from Nepal.\"\n",
    "\n",
    "Plagiarized_text = \" I am Jeevan from Nepal and Minerva. I am passionate about learning.\"\n",
    "\n",
    "random_text = \"Identify what other algorithmic strategies could be implemented to detect plagiarism, and explain why. Be sure to make your comparison as thorough as possible, using any experimental analysis setup you deem appropriate.\"\n",
    "original= get_string_into_list_of_words(Original_text)\n",
    "plagiarized = get_string_into_list_of_words(Plagiarized_text)\n",
    "random_t = get_string_into_list_of_words(random_text)\n",
    "print(len(plagiarized), len(original))\n",
    "n_value = 4\n",
    "detector = PlagiarismDetector(2, 15)\n",
    "detector.add_text(original,n_value)\n",
    "print(detector.check_plagiarism(plagiarized, n_value))\n",
    "print(detector.check_plagiarism(random_t, n_value))\n",
    "print(detector.check_plagiarism(original, n_value))\n"
   ]
  },
  {
   "cell_type": "markdown",
   "metadata": {},
   "source": [
    "### Test the False Positive Rate\n",
    "Frequentist Approach"
   ]
  },
  {
   "cell_type": "code",
   "execution_count": 122,
   "metadata": {},
   "outputs": [
    {
     "name": "stdout",
     "output_type": "stream",
     "text": [
      "0.25\n"
     ]
    }
   ],
   "source": [
    "# Create an instance of the PlagiarismDetector\n",
    "detector = PlagiarismDetector(2, 200)\n",
    "\n",
    "# Define the n_value\n",
    "n_value = 2\n",
    "\n",
    "# Define multiple sets of original and non-plagiarized documents\n",
    "tests = [\n",
    "    {\n",
    "        'original_docs': [\n",
    "            [\"this\", \"is\", \"the\", \"first\", \"original\", \"document\"],\n",
    "            [\"this\", \"is\", \"the\", \"second\", \"original\", \"document\"]\n",
    "        ],\n",
    "        'non_plagiarized_docs': [\n",
    "            [\"I\", \"have\", \"nothing\", \"to\", \"do\", \"with\"],\n",
    "            [\"the\", \"original\", \"document\", \"I \", \"am\", \"unique\" ]\n",
    "        ]\n",
    "    },\n",
    "    {\n",
    "        'original_docs': [\n",
    "            [\"one\", \"more\", \"original\", \"document\"],\n",
    "            [\"and\", \"another\", \"one\"]\n",
    "        ],\n",
    "        'non_plagiarized_docs': [\n",
    "            [\"this\", \"document\", \"is\", \"not\", \"plagiarized\"],\n",
    "            [\"neither\", \"is\", \"this\", \"one\"]\n",
    "        ]\n",
    "    },\n",
    "    # Add more tests as needed\n",
    "]\n",
    "\n",
    "# Run the tests and calculate the average FPR\n",
    "total_fpr = 0\n",
    "for test in tests:\n",
    "    fpr = detector.test_fpr(test['original_docs'], test['non_plagiarized_docs'], n_value)\n",
    "    total_fpr += fpr\n",
    "average_fpr = total_fpr / len(tests)\n",
    "\n",
    "print(average_fpr)"
   ]
  },
  {
   "cell_type": "markdown",
   "metadata": {},
   "source": [
    "## Experimental Analysis for Plagiarism Detector"
   ]
  },
  {
   "cell_type": "code",
   "execution_count": 284,
   "metadata": {},
   "outputs": [
    {
     "data": {
      "image/png": "[encoded data removed]",
      "text/plain": [
       "<Figure size 432x288 with 1 Axes>"
      ]
     },
     "metadata": {
      "needs_background": "light"
     },
     "output_type": "display_data"
    }
   ],
   "source": [
    "import random\n",
    "import string\n",
    "import time\n",
    "\n",
    "def generate_random_text(length):\n",
    "    return ''.join(random.choice(string.ascii_lowercase + ' ') for _ in range(length))\n",
    "\n",
    "def experimental_analysis(detector, tests, n_value): \n",
    "    results = []\n",
    "    input_count = 0\n",
    "    for test in tests:\n",
    "        check_time = 0\n",
    "        for input_size in range (10000):\n",
    "            # Generate a random text\n",
    "            random_text = generate_random_text(len(test['original']))\n",
    "            start_time = time.time()\n",
    "            detector.add_text(test['original'], n_value) y\n",
    "            train_time = time.time() - start_time\n",
    "\n",
    "            # Test the detector\n",
    "            start_time = time.time()\n",
    "            plagiarism_rate = detector.check_plagiarism(test['plagiarized'], n_value)  # Pass n_value directly\n",
    "            check_time += time.time() - start_time\n",
    "\n",
    "\n",
    "            results.append({\n",
    "                'input_count': input_count,\n",
    "                'plagiarism_rate': plagiarism_rate,\n",
    "                'train_time': train_time,\n",
    "                'check_time': check_time\n",
    "            })\n",
    "            input_count += 1\n",
    "\n",
    "    return results\n",
    "\n",
    "tests = [\n",
    "    {\n",
    "        'original': get_string_into_list_of_words(Original_text),\n",
    "        'plagiarized': get_string_into_list_of_words(Plagiarized_text),\n",
    "    },\n",
    "]\n",
    "\n",
    "\n",
    "n_values = 4\n",
    "detector = PlagiarismDetector(2, 15)\n",
    "\n",
    "\n",
    "results = experimental_analysis(detector, tests, n_values)\n",
    "\n",
    "\n",
    "plt.plot([result['input_count'] for result in results], [result['check_time'] for result in results], label='Detection Time')\n",
    "plt.xlabel('Number of Inputs Tested')\n",
    "plt.ylabel('Time (seconds)')\n",
    "plt.legend()\n",
    "plt.show()"
   ]
  },
  {
   "cell_type": "code",
   "execution_count": 285,
   "metadata": {},
   "outputs": [
    {
     "data": {
      "image/png": "[encoded data removed]",
      "text/plain": [
       "<Figure size 432x288 with 1 Axes>"
      ]
     },
     "metadata": {
      "needs_background": "light"
     },
     "output_type": "display_data"
    }
   ],
   "source": [
    "import numpy as np\n",
    "\n",
    "# Scatter Plot\n",
    "X = [result['input_count'] for result in results]\n",
    "Y = [result['check_time'] for result in results]\n",
    "plt.scatter(X, Y, label='Detection Time')\n",
    "\n",
    "# Best fit line\n",
    "coefficients = np.polyfit(X, Y, 1)\n",
    "polynomial = np.poly1d(coefficients)\n",
    "plt.plot(X, polynomial(X), 'r-', label='Best Fit Line')\n",
    "\n",
    "plt.xlabel('Number of Inputs Tested')\n",
    "plt.ylabel('Time (seconds)')\n",
    "plt.legend()\n",
    "plt.show()"
   ]
  }
 ],
 "metadata": {
  "kernelspec": {
   "display_name": "Python 3",
   "language": "python",
   "name": "python3"
  },
  "language_info": {
   "codemirror_mode": {
    "name": "ipython",
    "version": 3
   },
   "file_extension": ".py",
   "mimetype": "text/x-python",
   "name": "python",
   "nbconvert_exporter": "python",
   "pygments_lexer": "ipython3",
   "version": "3.9.12"
  }
 },
 "nbformat": 4,
 "nbformat_minor": 2
}
